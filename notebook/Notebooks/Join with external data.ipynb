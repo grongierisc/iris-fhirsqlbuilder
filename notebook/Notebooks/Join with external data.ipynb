{
 "cells": [
  {
   "cell_type": "markdown",
   "id": "f447e9b6",
   "metadata": {},
   "source": [
    "# Connect to FHIR SQL Builder"
   ]
  },
  {
   "cell_type": "code",
   "execution_count": null,
   "id": "b4e27c0a",
   "metadata": {},
   "outputs": [],
   "source": [
    "import intersystems_iris as iris"
   ]
  },
  {
   "cell_type": "markdown",
   "id": "be7c5ece",
   "metadata": {},
   "source": [
    "## Create the dbapi connection"
   ]
  },
  {
   "cell_type": "code",
   "execution_count": null,
   "id": "c1abbba1",
   "metadata": {},
   "outputs": [],
   "source": [
    "# create the dbapi connection\n",
    "\n",
    "host = \"iris\"\n",
    "port = 1972\n",
    "namespace = \"FHIRSERVER\"\n",
    "user = \"SuperUser\"\n",
    "password = \"SYS\"\n",
    "\n",
    "conn = iris.connect(\n",
    "                    hostname=host, \n",
    "                    port=port, \n",
    "                    namespace=namespace, \n",
    "                    username=user, \n",
    "                    password=password\n",
    "                   )\n",
    "\n",
    "# create a cursor\n",
    "cur = conn.cursor()"
   ]
  },
  {
   "cell_type": "markdown",
   "id": "2be9e143",
   "metadata": {},
   "source": [
    "## Create the DriverLicense Table"
   ]
  },
  {
   "cell_type": "code",
   "execution_count": null,
   "id": "becbb4a2",
   "metadata": {},
   "outputs": [],
   "source": [
    "# execute a query\n",
    "cur.execute(\"\"\"create TABLE if not exists AB.DriverLicense (\n",
    "\n",
    "    Code varchar(255) not null,\n",
    "    Valide TINYINT not null\n",
    "\n",
    ")\"\"\")"
   ]
  },
  {
   "cell_type": "markdown",
   "id": "1084aaa9",
   "metadata": {},
   "source": [
    "## Insert New Data"
   ]
  },
  {
   "cell_type": "code",
   "execution_count": null,
   "id": "dac2d737",
   "metadata": {},
   "outputs": [],
   "source": [
    "cur.execute(\"\"\"delete AB.DriverLicense\"\"\")"
   ]
  },
  {
   "cell_type": "code",
   "execution_count": null,
   "id": "d0b0780d",
   "metadata": {},
   "outputs": [],
   "source": [
    "cur.execute(\"\"\"INSERT INTO AB.DriverLicense (Code, Valide) VALUES ('S99916528', 1)\"\"\")\n",
    "cur.execute(\"\"\"INSERT into AB.DriverLicense (Code, Valide) VALUES ('S99950276', 0)\"\"\")"
   ]
  },
  {
   "cell_type": "markdown",
   "id": "18db8375",
   "metadata": {},
   "source": [
    "## Check new data"
   ]
  },
  {
   "cell_type": "code",
   "execution_count": null,
   "id": "0c710485",
   "metadata": {},
   "outputs": [],
   "source": [
    "cur.execute(\"select * from AB.DriverLicense\")\n",
    "cur.fetchall()"
   ]
  },
  {
   "cell_type": "markdown",
   "id": "5ca3ad99",
   "metadata": {},
   "source": [
    "## Join it with FHIR SQL Builder"
   ]
  },
  {
   "cell_type": "code",
   "execution_count": null,
   "id": "55b11ddf",
   "metadata": {},
   "outputs": [],
   "source": [
    "sql = \"\"\"\n",
    "SELECT \n",
    "P.NameFamily, P.NameGiven,DL.*\n",
    "FROM AA.Patient P\n",
    "inner join AB.DriverLicense DL on P.IdentifierValue = DL.Code\n",
    "\"\"\"\n",
    "cur.execute(sql)\n",
    "cur.fetchall()"
   ]
  },
  {
   "cell_type": "code",
   "execution_count": null,
   "id": "3c5fce16",
   "metadata": {},
   "outputs": [],
   "source": [
    "conn.close()"
   ]
  },
  {
   "cell_type": "code",
   "execution_count": null,
   "id": "f1a43609",
   "metadata": {},
   "outputs": [],
   "source": []
  }
 ],
 "metadata": {
  "kernelspec": {
   "display_name": "Python 3 (ipykernel)",
   "language": "python",
   "name": "python3"
  },
  "language_info": {
   "codemirror_mode": {
    "name": "ipython",
    "version": 3
   },
   "file_extension": ".py",
   "mimetype": "text/x-python",
   "name": "python",
   "nbconvert_exporter": "python",
   "pygments_lexer": "ipython3",
   "version": "3.10.9"
  }
 },
 "nbformat": 4,
 "nbformat_minor": 5
}
